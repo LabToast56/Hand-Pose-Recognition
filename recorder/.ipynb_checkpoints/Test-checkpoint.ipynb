{
 "cells": [
  {
   "cell_type": "markdown",
   "metadata": {},
   "source": [
    "### A Hello World\n",
    "\n",
    "This code acquired directly from https://docs.conda.io/projects/conda/en/latest/user-guide/tasks/manage-python.html\n",
    "\n",
    "Written by the Leapmotion devs as a \"Hello World\" for their system."
   ]
  },
  {
   "cell_type": "code",
   "execution_count": 7,
   "metadata": {},
   "outputs": [
    {
     "name": "stdout",
     "output_type": "stream",
     "text": [
      "Press Enter to quit...\n"
     ]
    }
   ],
   "source": [
    "import os, sys, inspect, thread, time\n",
    "src_dir = os.path.dirname(inspect.getfile(inspect.currentframe()))\n",
    "# Windows and Linux\n",
    "arch_dir = '../lib/x64' if sys.maxsize > 2**32 else '../lib/x86'\n",
    "# Mac\n",
    "#arch_dir = os.path.abspath(os.path.join(src_dir, '../lib'))\n",
    "\n",
    "sys.path.insert(0, os.path.abspath(os.path.join(src_dir, arch_dir)))\n",
    "\n",
    "import Leap\n",
    "\n",
    "class SampleListener(Leap.Listener):\n",
    "\n",
    "    def on_connect(self, controller):\n",
    "        print \"Connected\"\n",
    "\n",
    "\n",
    "    def on_frame(self, controller):\n",
    "        print \"Frame available\"\n",
    "\n",
    "def main():\n",
    "        controller = Leap.Controller()\n",
    "        listener = SampleListener()\n",
    "        \n",
    "        # Have the sample listener receive events from the controller\n",
    "        controller.add_listener(listener)\n",
    "        \n",
    "        # Keep this process running until Enter is pressed\n",
    "        print \"Press Enter to quit...\"\n",
    "        try:\n",
    "            sys.stdin.readline()\n",
    "        except KeyboardInterrupt:\n",
    "            pass\n",
    "        finally:\n",
    "            # Remove the sample listener when done\n",
    "            controller.remove_listener(listener)\n",
    "\n",
    "main()"
   ]
  },
  {
   "cell_type": "code",
   "execution_count": null,
   "metadata": {},
   "outputs": [],
   "source": []
  }
 ],
 "metadata": {
  "kernelspec": {
   "display_name": "Python 2",
   "language": "python",
   "name": "python2"
  },
  "language_info": {
   "codemirror_mode": {
    "name": "ipython",
    "version": 2
   },
   "file_extension": ".py",
   "mimetype": "text/x-python",
   "name": "python",
   "nbconvert_exporter": "python",
   "pygments_lexer": "ipython2",
   "version": "2.7.17"
  }
 },
 "nbformat": 4,
 "nbformat_minor": 2
}
